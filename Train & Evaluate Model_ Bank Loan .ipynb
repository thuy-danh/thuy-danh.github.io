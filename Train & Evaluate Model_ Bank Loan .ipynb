{
 "cells": [
  {
   "cell_type": "code",
   "execution_count": 1,
   "id": "5218c67a",
   "metadata": {},
   "outputs": [],
   "source": [
    "import pandas as pd\n",
    "import numpy as np\n",
    "import seaborn as sns\n",
    "import matplotlib.pyplot as plt\n",
    "%matplotlib inline"
   ]
  },
  {
   "cell_type": "code",
   "execution_count": 2,
   "id": "a12db03a",
   "metadata": {},
   "outputs": [],
   "source": [
    "df = pd.read_csv('/Users/macbook/bank_loan_status.csv')"
   ]
  },
  {
   "cell_type": "code",
   "execution_count": 3,
   "id": "8f16ca57",
   "metadata": {},
   "outputs": [
    {
     "data": {
      "text/plain": [
       "Index(['Unnamed: 0', 'loan_amnt', 'term', 'int_rate', 'installment', 'grade',\n",
       "       'annual_inc', 'issue_d', 'loan_status', 'dti', 'earliest_cr_line',\n",
       "       'open_acc', 'pub_rec', 'revol_bal', 'revol_util', 'total_acc',\n",
       "       'mort_acc', 'pub_rec_bankruptcies', 'loan_repay', 'A2', 'A3', 'A4',\n",
       "       'A5', 'B1', 'B2', 'B3', 'B4', 'B5', 'C1', 'C2', 'C3', 'C4', 'C5', 'D1',\n",
       "       'D2', 'D3', 'D4', 'D5', 'E1', 'E2', 'E3', 'E4', 'E5', 'F1', 'F2', 'F3',\n",
       "       'F4', 'F5', 'G1', 'G2', 'G3', 'G4', 'G5',\n",
       "       'verification_status_Not Verified',\n",
       "       'verification_status_Source Verified', 'verification_status_Verified',\n",
       "       'initial_list_status_f', 'initial_list_status_w',\n",
       "       'application_type_DIRECT_PAY', 'application_type_INDIVIDUAL',\n",
       "       'application_type_JOINT', 'purpose_car', 'purpose_credit_card',\n",
       "       'purpose_debt_consolidation', 'purpose_educational',\n",
       "       'purpose_home_improvement', 'purpose_house', 'purpose_major_purchase',\n",
       "       'purpose_medical', 'purpose_moving', 'purpose_other',\n",
       "       'purpose_renewable_energy', 'purpose_small_business',\n",
       "       'purpose_vacation', 'purpose_wedding', 'OTHER', 'OWN', 'RENT', '05113',\n",
       "       '11650', '22690', '29597', '30723', '48052', '70466', '86630', '93700'],\n",
       "      dtype='object')"
      ]
     },
     "execution_count": 3,
     "metadata": {},
     "output_type": "execute_result"
    }
   ],
   "source": [
    "df.columns"
   ]
  },
  {
   "cell_type": "code",
   "execution_count": 4,
   "id": "88d40711",
   "metadata": {},
   "outputs": [],
   "source": [
    "df.drop('issue_d',axis=1,inplace=True)\n",
    "df.drop('loan_status',axis=1,inplace=True)\n",
    "df.drop('grade',axis=1,inplace=True)\n",
    "df.drop(395218, inplace=True)"
   ]
  },
  {
   "cell_type": "code",
   "execution_count": 5,
   "id": "9280813e",
   "metadata": {},
   "outputs": [
    {
     "data": {
      "text/plain": [
       "0         0.0\n",
       "1         3.0\n",
       "2         0.0\n",
       "3         0.0\n",
       "4         1.0\n",
       "         ... \n",
       "395213    0.0\n",
       "395214    0.0\n",
       "395215    1.0\n",
       "395216    0.0\n",
       "395217    5.0\n",
       "Name: mort_acc, Length: 358014, dtype: float64"
      ]
     },
     "execution_count": 5,
     "metadata": {},
     "output_type": "execute_result"
    }
   ],
   "source": [
    "specific_value = 'total_acc\\n2.0      0.000000\\n3.0      0.052023\\n4.0      0.066743\\n5.0      0.103289\\n6.0      0.151293\\n           ...   \\n124.0    1.000000\\n129.0    1.000000\\n135.0    3.000000\\n150.0    2.000000\\n151.0    0.000000\\nName: mort_acc, Length: 118, dtype: float64'\n",
    "df = df[df['mort_acc'] != specific_value]\n",
    "df['mort_acc'].astype(float)"
   ]
  },
  {
   "cell_type": "code",
   "execution_count": 6,
   "id": "57ddd147",
   "metadata": {},
   "outputs": [],
   "source": [
    "from sklearn.model_selection import train_test_split\n"
   ]
  },
  {
   "cell_type": "code",
   "execution_count": 7,
   "id": "d560dac1",
   "metadata": {},
   "outputs": [],
   "source": [
    "X = df.drop('loan_repay',axis=1).values\n",
    "y = df['loan_repay'].values"
   ]
  },
  {
   "cell_type": "code",
   "execution_count": 8,
   "id": "a3a5a7e2",
   "metadata": {},
   "outputs": [],
   "source": [
    "X_train, X_test, y_train, y_test = train_test_split(X, y, test_size=0.2, random_state=101)\n"
   ]
  },
  {
   "cell_type": "code",
   "execution_count": 9,
   "id": "21da3589",
   "metadata": {},
   "outputs": [],
   "source": [
    "from sklearn.preprocessing import MinMaxScaler\n"
   ]
  },
  {
   "cell_type": "code",
   "execution_count": 10,
   "id": "b1588b61",
   "metadata": {},
   "outputs": [],
   "source": [
    "scaler = MinMaxScaler()\n"
   ]
  },
  {
   "cell_type": "code",
   "execution_count": 11,
   "id": "cafb65d3",
   "metadata": {},
   "outputs": [],
   "source": [
    "X_train = scaler.fit_transform(X_train)\n",
    "X_test = scaler.transform(X_test)\n"
   ]
  },
  {
   "cell_type": "code",
   "execution_count": 12,
   "id": "64e63569",
   "metadata": {},
   "outputs": [
    {
     "name": "stderr",
     "output_type": "stream",
     "text": [
      "2023-09-14 01:20:41.826568: I tensorflow/core/platform/cpu_feature_guard.cc:182] This TensorFlow binary is optimized to use available CPU instructions in performance-critical operations.\n",
      "To enable the following instructions: AVX2 AVX512F AVX512_VNNI FMA, in other operations, rebuild TensorFlow with the appropriate compiler flags.\n"
     ]
    }
   ],
   "source": [
    "import tensorflow as tf\n",
    "from tensorflow.keras.models import Sequential \n",
    "from tensorflow.keras.layers import Dense,Dropout"
   ]
  },
  {
   "cell_type": "code",
   "execution_count": 13,
   "id": "8fbdfd8f",
   "metadata": {},
   "outputs": [],
   "source": [
    "model = Sequential()\n",
    "model.add(Dense(82, activation='relu'))\n",
    "model.add(Dropout(0.2))\n",
    "model.add(Dense(40, activation='relu'))\n",
    "model.add(Dropout(0.2))\n",
    "model.add(Dense(20, activation='relu'))\n",
    "model.add(Dropout(0.2))\n",
    "\n",
    "# Output layer for binary classification\n",
    "model.add(Dense(1, activation='sigmoid'))\n",
    "\n",
    "# Compile the model\n",
    "model.compile(loss='binary_crossentropy', optimizer='adam')\n"
   ]
  },
  {
   "cell_type": "code",
   "execution_count": 14,
   "id": "0961fc98",
   "metadata": {},
   "outputs": [
    {
     "name": "stdout",
     "output_type": "stream",
     "text": [
      "Epoch 1/25\n",
      "1119/1119 [==============================] - 6s 4ms/step - loss: 0.3037 - val_loss: 0.2673\n",
      "Epoch 2/25\n",
      "1119/1119 [==============================] - 4s 3ms/step - loss: 0.2695 - val_loss: 0.2660\n",
      "Epoch 3/25\n",
      "1119/1119 [==============================] - 4s 3ms/step - loss: 0.2666 - val_loss: 0.2651\n",
      "Epoch 4/25\n",
      "1119/1119 [==============================] - 4s 3ms/step - loss: 0.2655 - val_loss: 0.2649\n",
      "Epoch 5/25\n",
      "1119/1119 [==============================] - 4s 3ms/step - loss: 0.2646 - val_loss: 0.2649\n",
      "Epoch 6/25\n",
      "1119/1119 [==============================] - 4s 4ms/step - loss: 0.2639 - val_loss: 0.2650\n",
      "Epoch 7/25\n",
      "1119/1119 [==============================] - 4s 3ms/step - loss: 0.2634 - val_loss: 0.2649\n",
      "Epoch 8/25\n",
      "1119/1119 [==============================] - 4s 3ms/step - loss: 0.2631 - val_loss: 0.2650\n",
      "Epoch 9/25\n",
      "1119/1119 [==============================] - 4s 3ms/step - loss: 0.2628 - val_loss: 0.2649\n",
      "Epoch 10/25\n",
      "1119/1119 [==============================] - 4s 3ms/step - loss: 0.2627 - val_loss: 0.2653\n",
      "Epoch 11/25\n",
      "1119/1119 [==============================] - 4s 4ms/step - loss: 0.2625 - val_loss: 0.2645\n",
      "Epoch 12/25\n",
      "1119/1119 [==============================] - 4s 3ms/step - loss: 0.2620 - val_loss: 0.2646\n",
      "Epoch 13/25\n",
      "1119/1119 [==============================] - 4s 4ms/step - loss: 0.2617 - val_loss: 0.2643\n",
      "Epoch 14/25\n",
      "1119/1119 [==============================] - 4s 4ms/step - loss: 0.2614 - val_loss: 0.2640\n",
      "Epoch 15/25\n",
      "1119/1119 [==============================] - 4s 3ms/step - loss: 0.2612 - val_loss: 0.2640\n",
      "Epoch 16/25\n",
      "1119/1119 [==============================] - 4s 3ms/step - loss: 0.2609 - val_loss: 0.2642\n",
      "Epoch 17/25\n",
      "1119/1119 [==============================] - 4s 3ms/step - loss: 0.2608 - val_loss: 0.2639\n",
      "Epoch 18/25\n",
      "1119/1119 [==============================] - 4s 4ms/step - loss: 0.2602 - val_loss: 0.2642\n",
      "Epoch 19/25\n",
      "1119/1119 [==============================] - 4s 4ms/step - loss: 0.2600 - val_loss: 0.2637\n",
      "Epoch 20/25\n",
      "1119/1119 [==============================] - 4s 4ms/step - loss: 0.2599 - val_loss: 0.2639\n",
      "Epoch 21/25\n",
      "1119/1119 [==============================] - 5s 4ms/step - loss: 0.2597 - val_loss: 0.2640\n",
      "Epoch 22/25\n",
      "1119/1119 [==============================] - 4s 3ms/step - loss: 0.2595 - val_loss: 0.2637\n",
      "Epoch 23/25\n",
      "1119/1119 [==============================] - 4s 3ms/step - loss: 0.2595 - val_loss: 0.2638\n",
      "Epoch 24/25\n",
      "1119/1119 [==============================] - 4s 4ms/step - loss: 0.2592 - val_loss: 0.2637\n",
      "Epoch 25/25\n",
      "1119/1119 [==============================] - 4s 4ms/step - loss: 0.2589 - val_loss: 0.2633\n"
     ]
    }
   ],
   "source": [
    "history = model.fit(\n",
    "    X_train, \n",
    "    y_train, \n",
    "    epochs=25,\n",
    "    validation_data=(X_test, y_test),\n",
    "    batch_size=256,\n",
    "    verbose=1)\n"
   ]
  },
  {
   "cell_type": "code",
   "execution_count": 15,
   "id": "2d3d1ca8",
   "metadata": {},
   "outputs": [],
   "source": [
    "#model plotting"
   ]
  },
  {
   "cell_type": "code",
   "execution_count": 16,
   "id": "5d888fc8",
   "metadata": {},
   "outputs": [],
   "source": [
    "losses = pd.DataFrame(model.history.history)"
   ]
  },
  {
   "cell_type": "code",
   "execution_count": 17,
   "id": "efa261d6",
   "metadata": {},
   "outputs": [
    {
     "data": {
      "text/plain": [
       "<Axes: >"
      ]
     },
     "execution_count": 17,
     "metadata": {},
     "output_type": "execute_result"
    },
    {
     "data": {
      "image/png": "[encoded data removed]",
      "text/plain": [
       "<Figure size 640x480 with 1 Axes>"
      ]
     },
     "metadata": {},
     "output_type": "display_data"
    }
   ],
   "source": [
    "losses.plot()"
   ]
  },
  {
   "cell_type": "code",
   "execution_count": 18,
   "id": "710dac97",
   "metadata": {},
   "outputs": [],
   "source": [
    "from sklearn.metrics import classification_report,confusion_matrix\n"
   ]
  },
  {
   "cell_type": "code",
   "execution_count": 19,
   "id": "7874902b",
   "metadata": {},
   "outputs": [
    {
     "name": "stdout",
     "output_type": "stream",
     "text": [
      "2238/2238 [==============================] - 4s 2ms/step\n"
     ]
    }
   ],
   "source": [
    "predictions = (model.predict(X_test) > 0.5).astype(\"int32\")"
   ]
  },
  {
   "cell_type": "code",
   "execution_count": 20,
   "id": "e2bc96c4",
   "metadata": {},
   "outputs": [
    {
     "name": "stdout",
     "output_type": "stream",
     "text": [
      "              precision    recall  f1-score   support\n",
      "\n",
      "           0       0.96      0.45      0.61     14385\n",
      "           1       0.88      1.00      0.93     57218\n",
      "\n",
      "    accuracy                           0.89     71603\n",
      "   macro avg       0.92      0.72      0.77     71603\n",
      "weighted avg       0.89      0.89      0.87     71603\n",
      "\n",
      "[[ 6413  7972]\n",
      " [  247 56971]]\n"
     ]
    }
   ],
   "source": [
    "print(classification_report(y_test, predictions))\n",
    "print(confusion_matrix(y_test, predictions))\n"
   ]
  },
  {
   "cell_type": "code",
   "execution_count": 21,
   "id": "3f0650a8",
   "metadata": {},
   "outputs": [],
   "source": [
    "##test the model by creating a rondom customer"
   ]
  },
  {
   "cell_type": "code",
   "execution_count": 22,
   "id": "c4065e19",
   "metadata": {},
   "outputs": [],
   "source": [
    "import random"
   ]
  },
  {
   "cell_type": "code",
   "execution_count": 23,
   "id": "66bab763",
   "metadata": {},
   "outputs": [],
   "source": [
    "random.seed(101)\n",
    "random_ind = random.randint(0,len(df))"
   ]
  },
  {
   "cell_type": "code",
   "execution_count": 24,
   "id": "630fb7b4",
   "metadata": {},
   "outputs": [
    {
     "data": {
      "text/plain": [
       "Index(['Unnamed: 0', 'loan_amnt', 'term', 'int_rate', 'installment',\n",
       "       'annual_inc', 'dti', 'earliest_cr_line', 'open_acc', 'pub_rec',\n",
       "       'revol_bal', 'revol_util', 'total_acc', 'mort_acc',\n",
       "       'pub_rec_bankruptcies', 'loan_repay', 'A2', 'A3', 'A4', 'A5', 'B1',\n",
       "       'B2', 'B3', 'B4', 'B5', 'C1', 'C2', 'C3', 'C4', 'C5', 'D1', 'D2', 'D3',\n",
       "       'D4', 'D5', 'E1', 'E2', 'E3', 'E4', 'E5', 'F1', 'F2', 'F3', 'F4', 'F5',\n",
       "       'G1', 'G2', 'G3', 'G4', 'G5', 'verification_status_Not Verified',\n",
       "       'verification_status_Source Verified', 'verification_status_Verified',\n",
       "       'initial_list_status_f', 'initial_list_status_w',\n",
       "       'application_type_DIRECT_PAY', 'application_type_INDIVIDUAL',\n",
       "       'application_type_JOINT', 'purpose_car', 'purpose_credit_card',\n",
       "       'purpose_debt_consolidation', 'purpose_educational',\n",
       "       'purpose_home_improvement', 'purpose_house', 'purpose_major_purchase',\n",
       "       'purpose_medical', 'purpose_moving', 'purpose_other',\n",
       "       'purpose_renewable_energy', 'purpose_small_business',\n",
       "       'purpose_vacation', 'purpose_wedding', 'OTHER', 'OWN', 'RENT', '05113',\n",
       "       '11650', '22690', '29597', '30723', '48052', '70466', '86630', '93700'],\n",
       "      dtype='object')"
      ]
     },
     "execution_count": 24,
     "metadata": {},
     "output_type": "execute_result"
    }
   ],
   "source": [
    "df.columns"
   ]
  },
  {
   "cell_type": "code",
   "execution_count": 25,
   "id": "5591afcb",
   "metadata": {},
   "outputs": [],
   "source": [
    "new_customer = df.drop('loan_repay',axis=1).iloc[random_ind]"
   ]
  },
  {
   "cell_type": "code",
   "execution_count": 26,
   "id": "e18bff6b",
   "metadata": {},
   "outputs": [
    {
     "data": {
      "text/plain": [
       "Unnamed: 0      337106\n",
       "loan_amnt      35000.0\n",
       "term                60\n",
       "int_rate         22.45\n",
       "installment     975.64\n",
       "                ...   \n",
       "30723                0\n",
       "48052                0\n",
       "70466                1\n",
       "86630                0\n",
       "93700                0\n",
       "Name: 336411, Length: 83, dtype: object"
      ]
     },
     "execution_count": 26,
     "metadata": {},
     "output_type": "execute_result"
    }
   ],
   "source": [
    "new_customer"
   ]
  },
  {
   "cell_type": "code",
   "execution_count": 27,
   "id": "ed67b36d",
   "metadata": {},
   "outputs": [],
   "source": [
    "new_customer = scaler.transform(new_customer.values.reshape(1,83))"
   ]
  },
  {
   "cell_type": "code",
   "execution_count": 28,
   "id": "0807313c",
   "metadata": {},
   "outputs": [
    {
     "name": "stdout",
     "output_type": "stream",
     "text": [
      "1/1 [==============================] - 0s 23ms/step\n"
     ]
    },
    {
     "data": {
      "text/plain": [
       "array([[0.7270599]], dtype=float32)"
      ]
     },
     "execution_count": 28,
     "metadata": {},
     "output_type": "execute_result"
    }
   ],
   "source": [
    "model.predict(new_customer)"
   ]
  },
  {
   "cell_type": "code",
   "execution_count": 29,
   "id": "a2cf0c43",
   "metadata": {},
   "outputs": [
    {
     "data": {
      "text/plain": [
       "0"
      ]
     },
     "execution_count": 29,
     "metadata": {},
     "output_type": "execute_result"
    }
   ],
   "source": [
    "df.iloc[random_ind]['loan_repay']"
   ]
  },
  {
   "cell_type": "code",
   "execution_count": null,
   "id": "ce8e2371",
   "metadata": {},
   "outputs": [],
   "source": []
  }
 ],
 "metadata": {
  "kernelspec": {
   "display_name": "Python 3 (ipykernel)",
   "language": "python",
   "name": "python3"
  },
  "language_info": {
   "codemirror_mode": {
    "name": "ipython",
    "version": 3
   },
   "file_extension": ".py",
   "mimetype": "text/x-python",
   "name": "python",
   "nbconvert_exporter": "python",
   "pygments_lexer": "ipython3",
   "version": "3.10.9"
  }
 },
 "nbformat": 4,
 "nbformat_minor": 5
}
